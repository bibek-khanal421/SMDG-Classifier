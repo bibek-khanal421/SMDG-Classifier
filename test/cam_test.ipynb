{
 "cells": [
  {
   "cell_type": "code",
   "execution_count": null,
   "metadata": {},
   "outputs": [],
   "source": [
    "import tensorflow as tf\n",
    "from models import ResNet50, Xception\n",
    "import numpy as np\n",
    "import matplotlib.pyplot as plt\n",
    "import cv2"
   ]
  },
  {
   "cell_type": "code",
   "execution_count": null,
   "metadata": {},
   "outputs": [],
   "source": [
    "image_size = 256\n",
    "num_classes = 1\n",
    "image_pos = r'archive\\test\\test_1.png'\n",
    "image_neg = r'archive\\test\\test_0.png'"
   ]
  },
  {
   "cell_type": "code",
   "execution_count": null,
   "metadata": {},
   "outputs": [],
   "source": [
    "class GradCAM:\n",
    "  def __init__(self, model, layerName):\n",
    "    self.model = model\n",
    "    self.layerName = layerName\n",
    "    \n",
    "    self.gradModel = tf.keras.models.Model(inputs=[self.model.inputs], \n",
    "                                           outputs=[self.model.get_layer(self.layerName).output, self.model.output])\n",
    "    \n",
    "  def compute_heatmap(self, image, classIdx, eps=1e-8):\n",
    "    with tf.GradientTape() as tape:\n",
    "      tape.watch(self.gradModel.get_layer(self.layerName).variables)\n",
    "      inputs = tf.cast(image, tf.float32)\n",
    "      (convOutputs, predictions) = self.gradModel(inputs)\n",
    "\n",
    "      if len(predictions)==1:\n",
    "        # Binary Classification\n",
    "        loss = predictions[0]\n",
    "      else:\n",
    "        loss = predictions[:, classIdx]\n",
    "    \n",
    "    grads = tape.gradient(loss, convOutputs)\n",
    "    \n",
    "    castConvOutputs = tf.cast(convOutputs > 0, \"float32\")\n",
    "    castGrads = tf.cast(grads > 0, \"float32\")\n",
    "    guidedGrads = castConvOutputs * castGrads \n",
    "    \n",
    "    convOutputs = convOutputs[0]\n",
    "    guidedGrads = guidedGrads[0]\n",
    "    \n",
    "    weights = tf.reduce_mean(guidedGrads, axis=(0, 1))\n",
    "    cam = tf.keras.layers.ReLU()(tf.reduce_sum(tf.multiply(weights, convOutputs), axis=-1))\n",
    "    \n",
    "    (w, h) = (image.shape[2], image.shape[1])\n",
    "    heatmap = cv2.resize(cam.numpy(), (w, h))\n",
    "    \n",
    "    numer = heatmap - np.min(heatmap)\n",
    "    denom = (heatmap.max() - heatmap.min()) + eps\n",
    "    heatmap = numer / denom\n",
    "    heatmap = (heatmap * 255).astype(\"uint8\")\n",
    "    return heatmap\n",
    "    \n",
    "  def overlay_heatmap(self, heatmap, image, alpha=0.5, colormap=cv2.COLORMAP_JET):\n",
    "    heatmap = cv2.applyColorMap(heatmap, colormap)\n",
    "    output = cv2.addWeighted(image, alpha , heatmap, 1 - alpha, 0)\n",
    "    return (heatmap, output)"
   ]
  },
  {
   "cell_type": "code",
   "execution_count": null,
   "metadata": {},
   "outputs": [],
   "source": [
    "def GRADgen(model, layer_name, image_pos):\n",
    "    gradcam = GradCAM(model, layer_name)\n",
    "    image = tf.keras.preprocessing.image.load_img(image_pos, target_size=(image_size, image_size))\n",
    "    image = tf.keras.preprocessing.image.img_to_array(image)/255.0\n",
    "    image = np.expand_dims(image, axis=0)\n",
    "    preds = model.predict(image)\n",
    "    i = np.argmax(preds[0])\n",
    "    heatmap = gradcam.compute_heatmap(image, i)\n",
    "    image = image.reshape(image.shape[1:])\n",
    "    image = image*255\n",
    "    image = image.astype(np.uint8)\n",
    "    heatmap = cv2.resize(heatmap, (image_size, image_size))\n",
    "    (heatmap, output) = gradcam.overlay_heatmap(heatmap, image, alpha=0.5)\n",
    "    return heatmap, output, image\n"
   ]
  },
  {
   "cell_type": "code",
   "execution_count": null,
   "metadata": {},
   "outputs": [],
   "source": [
    "model = ResNet50((image_size, image_size, 3), num_classes).build_model()\n",
    "model.load_weights(r'saved_model\\resnet\\weights.h5')\n",
    "heatmap, output, image = GRADgen(model, 'conv5_block3_out', image_pos)"
   ]
  },
  {
   "cell_type": "code",
   "execution_count": null,
   "metadata": {},
   "outputs": [],
   "source": [
    "plt.imshow(image)\n",
    "plt.axis('off')\n",
    "plt.show()\n",
    "\n",
    "plt.imshow(output)\n",
    "plt.axis('off')\n",
    "plt.show()\n",
    "\n",
    "plt.imshow(heatmap)\n",
    "plt.axis('off')\n",
    "plt.show()"
   ]
  },
  {
   "cell_type": "code",
   "execution_count": null,
   "metadata": {},
   "outputs": [],
   "source": [
    "model = Xception((image_size, image_size, 3), num_classes).build_model()\n",
    "model.load_weights(r'saved_model\\xception\\weights.h5')\n",
    "heatmap, output, image = GRADgen(model, 'block14_sepconv2_act', image_pos)"
   ]
  },
  {
   "cell_type": "code",
   "execution_count": null,
   "metadata": {},
   "outputs": [],
   "source": [
    "plt.imshow(image)\n",
    "plt.axis('off')\n",
    "plt.show()\n",
    "\n",
    "plt.imshow(output)\n",
    "plt.axis('off')\n",
    "plt.show()\n",
    "\n",
    "plt.imshow(heatmap)\n",
    "plt.axis('off')\n",
    "plt.show()"
   ]
  }
 ],
 "metadata": {
  "kernelspec": {
   "display_name": "ML",
   "language": "python",
   "name": "python3"
  },
  "language_info": {
   "codemirror_mode": {
    "name": "ipython",
    "version": 3
   },
   "file_extension": ".py",
   "mimetype": "text/x-python",
   "name": "python",
   "nbconvert_exporter": "python",
   "pygments_lexer": "ipython3",
   "version": "3.9.12"
  },
  "orig_nbformat": 4
 },
 "nbformat": 4,
 "nbformat_minor": 2
}
